{
 "cells": [
  {
   "cell_type": "markdown",
   "id": "64b3e2c2",
   "metadata": {},
   "source": [
    "## Check if a date in one df is between two dates in another df"
   ]
  },
  {
   "cell_type": "code",
   "execution_count": 40,
   "id": "97063a91",
   "metadata": {},
   "outputs": [],
   "source": [
    "import pandas as pd"
   ]
  },
  {
   "cell_type": "code",
   "execution_count": 49,
   "id": "fa5170c8",
   "metadata": {},
   "outputs": [],
   "source": [
    "from IPython.core.interactiveshell import InteractiveShell\n",
    "InteractiveShell.ast_node_interactivity = 'all'"
   ]
  },
  {
   "cell_type": "code",
   "execution_count": 57,
   "id": "fed9abd6",
   "metadata": {},
   "outputs": [],
   "source": [
    "#use this to create a datetime df\n",
    "date_list = pd.date_range(start = '2019-05-01 00:00:00.00', end = '2019-08-01 02:15:00.00', freq = '1W' )\n",
    "datelist_df = pd.DataFrame(date_list)\n",
    "datelist_df.columns = ['date_time']\n",
    "datelist_df"
   ]
  },
  {
   "cell_type": "code",
   "execution_count": 50,
   "id": "d413d8e8",
   "metadata": {},
   "outputs": [],
   "source": [
    "data1 = { \n",
    "    'date': ['2019-05-01 00:00:00', '2019-05-01 00:05:00', '2019-05-01 00:10:00']\n",
    "        }\n",
    "\n",
    "data2 = {\n",
    "    'start': ['2019-05-01 00:02:50', '2019-05-01 00:04:30', '2019-05-01 00:11:00'] ,\n",
    "     'end':['2019-05-01 00:05:00', '2019-05-01 00:11:00', '2019-05-01 00:12:00']\n",
    "        }\n",
    "\n",
    "df1 = pd.DataFrame(data=data1)\n",
    "df2 = pd.DataFrame(data=data2)"
   ]
  },
  {
   "cell_type": "code",
   "execution_count": 51,
   "id": "40fa6c69",
   "metadata": {},
   "outputs": [
    {
     "data": {
      "text/plain": [
       "0   2019-05-01 00:00:00\n",
       "1   2019-05-01 00:05:00\n",
       "2   2019-05-01 00:10:00\n",
       "Name: date, dtype: datetime64[ns]"
      ]
     },
     "execution_count": 51,
     "metadata": {},
     "output_type": "execute_result"
    },
    {
     "data": {
      "text/plain": [
       "0   2019-05-01 00:02:50\n",
       "1   2019-05-01 00:04:30\n",
       "2   2019-05-01 00:11:00\n",
       "Name: start, dtype: datetime64[ns]"
      ]
     },
     "execution_count": 51,
     "metadata": {},
     "output_type": "execute_result"
    },
    {
     "data": {
      "text/plain": [
       "0   2019-05-01 00:05:00\n",
       "1   2019-05-01 00:11:00\n",
       "2   2019-05-01 00:12:00\n",
       "Name: end, dtype: datetime64[ns]"
      ]
     },
     "execution_count": 51,
     "metadata": {},
     "output_type": "execute_result"
    }
   ],
   "source": [
    "pd.to_datetime(df1['date'])\n",
    "pd.to_datetime(df2['start'])\n",
    "pd.to_datetime(df2['end'])"
   ]
  },
  {
   "cell_type": "code",
   "execution_count": 52,
   "id": "c435043c",
   "metadata": {},
   "outputs": [
    {
     "data": {
      "text/html": [
       "<div>\n",
       "<style scoped>\n",
       "    .dataframe tbody tr th:only-of-type {\n",
       "        vertical-align: middle;\n",
       "    }\n",
       "\n",
       "    .dataframe tbody tr th {\n",
       "        vertical-align: top;\n",
       "    }\n",
       "\n",
       "    .dataframe thead th {\n",
       "        text-align: right;\n",
       "    }\n",
       "</style>\n",
       "<table border=\"1\" class=\"dataframe\">\n",
       "  <thead>\n",
       "    <tr style=\"text-align: right;\">\n",
       "      <th></th>\n",
       "      <th>date</th>\n",
       "    </tr>\n",
       "  </thead>\n",
       "  <tbody>\n",
       "    <tr>\n",
       "      <th>0</th>\n",
       "      <td>2019-05-01 00:00:00</td>\n",
       "    </tr>\n",
       "    <tr>\n",
       "      <th>1</th>\n",
       "      <td>2019-05-01 00:05:00</td>\n",
       "    </tr>\n",
       "    <tr>\n",
       "      <th>2</th>\n",
       "      <td>2019-05-01 00:10:00</td>\n",
       "    </tr>\n",
       "  </tbody>\n",
       "</table>\n",
       "</div>"
      ],
      "text/plain": [
       "                  date\n",
       "0  2019-05-01 00:00:00\n",
       "1  2019-05-01 00:05:00\n",
       "2  2019-05-01 00:10:00"
      ]
     },
     "execution_count": 52,
     "metadata": {},
     "output_type": "execute_result"
    }
   ],
   "source": [
    "df1"
   ]
  },
  {
   "cell_type": "code",
   "execution_count": 53,
   "id": "709839eb",
   "metadata": {},
   "outputs": [
    {
     "data": {
      "text/html": [
       "<div>\n",
       "<style scoped>\n",
       "    .dataframe tbody tr th:only-of-type {\n",
       "        vertical-align: middle;\n",
       "    }\n",
       "\n",
       "    .dataframe tbody tr th {\n",
       "        vertical-align: top;\n",
       "    }\n",
       "\n",
       "    .dataframe thead th {\n",
       "        text-align: right;\n",
       "    }\n",
       "</style>\n",
       "<table border=\"1\" class=\"dataframe\">\n",
       "  <thead>\n",
       "    <tr style=\"text-align: right;\">\n",
       "      <th></th>\n",
       "      <th>start</th>\n",
       "      <th>end</th>\n",
       "    </tr>\n",
       "  </thead>\n",
       "  <tbody>\n",
       "    <tr>\n",
       "      <th>0</th>\n",
       "      <td>2019-05-01 00:02:50</td>\n",
       "      <td>2019-05-01 00:05:00</td>\n",
       "    </tr>\n",
       "    <tr>\n",
       "      <th>1</th>\n",
       "      <td>2019-05-01 00:04:30</td>\n",
       "      <td>2019-05-01 00:11:00</td>\n",
       "    </tr>\n",
       "    <tr>\n",
       "      <th>2</th>\n",
       "      <td>2019-05-01 00:11:00</td>\n",
       "      <td>2019-05-01 00:12:00</td>\n",
       "    </tr>\n",
       "  </tbody>\n",
       "</table>\n",
       "</div>"
      ],
      "text/plain": [
       "                 start                  end\n",
       "0  2019-05-01 00:02:50  2019-05-01 00:05:00\n",
       "1  2019-05-01 00:04:30  2019-05-01 00:11:00\n",
       "2  2019-05-01 00:11:00  2019-05-01 00:12:00"
      ]
     },
     "execution_count": 53,
     "metadata": {},
     "output_type": "execute_result"
    }
   ],
   "source": [
    "df2"
   ]
  },
  {
   "cell_type": "code",
   "execution_count": 56,
   "id": "62fd8a2c",
   "metadata": {},
   "outputs": [
    {
     "name": "stdout",
     "output_type": "stream",
     "text": [
      "                  date  matches\n",
      "0  2019-05-01 00:00:00        0\n",
      "1  2019-05-01 00:05:00        1\n",
      "2  2019-05-01 00:10:00        0\n",
      "                  date  matches\n",
      "0  2019-05-01 00:00:00        0\n",
      "1  2019-05-01 00:05:00        2\n",
      "2  2019-05-01 00:10:00        0\n",
      "                  date  matches\n",
      "0  2019-05-01 00:00:00        0\n",
      "1  2019-05-01 00:05:00        2\n",
      "2  2019-05-01 00:10:00        1\n"
     ]
    }
   ],
   "source": [
    "df1['matches'] = 0\n",
    "for index1, row1 in df1.iterrows():\n",
    "    x = row1.date\n",
    "    for index2, row2 in df2.iterrows():\n",
    "        if (x >= row2.start) & (x <= row2.end):\n",
    "            df1.loc[index1, 'matches'] += 1 \n",
    "            print(df1)"
   ]
  },
  {
   "cell_type": "code",
   "execution_count": 48,
   "id": "1d49d80b",
   "metadata": {},
   "outputs": [
    {
     "data": {
      "text/html": [
       "<div>\n",
       "<style scoped>\n",
       "    .dataframe tbody tr th:only-of-type {\n",
       "        vertical-align: middle;\n",
       "    }\n",
       "\n",
       "    .dataframe tbody tr th {\n",
       "        vertical-align: top;\n",
       "    }\n",
       "\n",
       "    .dataframe thead th {\n",
       "        text-align: right;\n",
       "    }\n",
       "</style>\n",
       "<table border=\"1\" class=\"dataframe\">\n",
       "  <thead>\n",
       "    <tr style=\"text-align: right;\">\n",
       "      <th></th>\n",
       "      <th>date</th>\n",
       "      <th>matches</th>\n",
       "    </tr>\n",
       "  </thead>\n",
       "  <tbody>\n",
       "    <tr>\n",
       "      <th>0</th>\n",
       "      <td>2019-05-01 00:00:00</td>\n",
       "      <td>0</td>\n",
       "    </tr>\n",
       "    <tr>\n",
       "      <th>1</th>\n",
       "      <td>2019-05-01 00:05:00</td>\n",
       "      <td>2</td>\n",
       "    </tr>\n",
       "    <tr>\n",
       "      <th>2</th>\n",
       "      <td>2019-05-01 00:10:00</td>\n",
       "      <td>1</td>\n",
       "    </tr>\n",
       "  </tbody>\n",
       "</table>\n",
       "</div>"
      ],
      "text/plain": [
       "                 date  matches\n",
       "0 2019-05-01 00:00:00        0\n",
       "1 2019-05-01 00:05:00        2\n",
       "2 2019-05-01 00:10:00        1"
      ]
     },
     "execution_count": 48,
     "metadata": {},
     "output_type": "execute_result"
    }
   ],
   "source": [
    "df1"
   ]
  },
  {
   "cell_type": "markdown",
   "id": "52a5a8b6",
   "metadata": {},
   "source": [
    "#### we can then groupby to aggregate the data to see how many per a certain time period"
   ]
  },
  {
   "cell_type": "code",
   "execution_count": 46,
   "id": "594bbc25",
   "metadata": {},
   "outputs": [],
   "source": [
    "df1['date'] = pd.to_datetime(df1['date'])"
   ]
  },
  {
   "cell_type": "code",
   "execution_count": 47,
   "id": "6a3d15f1",
   "metadata": {},
   "outputs": [
    {
     "data": {
      "text/plain": [
       "date\n",
       "2019-05-01    3\n",
       "Freq: D, Name: matches, dtype: int64"
      ]
     },
     "execution_count": 47,
     "metadata": {},
     "output_type": "execute_result"
    }
   ],
   "source": [
    "df1_filter = df1.groupby(pd.Grouper(key='date', axis=0, freq='D'))['matches'].sum()\n",
    "df1_filter"
   ]
  },
  {
   "cell_type": "code",
   "execution_count": null,
   "id": "24d4de26",
   "metadata": {},
   "outputs": [],
   "source": []
  }
 ],
 "metadata": {
  "kernelspec": {
   "display_name": "Python 3 (ipykernel)",
   "language": "python",
   "name": "python3"
  },
  "language_info": {
   "codemirror_mode": {
    "name": "ipython",
    "version": 3
   },
   "file_extension": ".py",
   "mimetype": "text/x-python",
   "name": "python",
   "nbconvert_exporter": "python",
   "pygments_lexer": "ipython3",
   "version": "3.8.5"
  }
 },
 "nbformat": 4,
 "nbformat_minor": 5
}
