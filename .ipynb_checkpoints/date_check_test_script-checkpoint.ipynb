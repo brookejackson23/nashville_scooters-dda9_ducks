{
 "cells": [
  {
   "cell_type": "markdown",
   "id": "64b3e2c2",
   "metadata": {},
   "source": [
    "## Check if a date in one df is between two dates in another df"
   ]
  },
  {
   "cell_type": "code",
   "execution_count": null,
   "id": "97063a91",
   "metadata": {},
   "outputs": [],
   "source": [
    "import pandas as pd"
   ]
  },
  {
   "cell_type": "code",
   "execution_count": null,
   "id": "fed9abd6",
   "metadata": {},
   "outputs": [],
   "source": [
    "#use this to create a datetime df\n",
    "date_list = pd.date_range(start = '2019-05-01 00:00:00.00', end = '2019-08-01 02:15:00.00', freq = '5min' )\n",
    "datelist_df = pd.DataFrame(date_list)\n",
    "datelist_df.columns = ['date_time']\n",
    "datelist_df"
   ]
  },
  {
   "cell_type": "code",
   "execution_count": null,
   "id": "d413d8e8",
   "metadata": {},
   "outputs": [],
   "source": [
    "data1 = { \n",
    "    'date': ['2019-05-01 00:00:00', '2019-05-01 00:05:00', '2019-05-01 00:10:00']\n",
    "        }\n",
    "\n",
    "data2 = {\n",
    "    'start': ['2019-05-01 00:02:50', '2019-05-01 00:04:30', '2019-05-01 00:11:00'] ,\n",
    "     'end':['2019-05-01 00:05:00', '2019-05-01 00:11:00', '2019-05-01 00:12:00']\n",
    "        }\n",
    "\n",
    "df1 = pd.DataFrame(data=data1)\n",
    "df2 = pd.DataFrame(data=data2)"
   ]
  },
  {
   "cell_type": "code",
   "execution_count": null,
   "id": "40fa6c69",
   "metadata": {},
   "outputs": [],
   "source": [
    "pd.to_datetime(df1['date'])\n",
    "pd.to_datetime(df2['start'])\n",
    "pd.to_datetime(df2['end'])"
   ]
  },
  {
   "cell_type": "code",
   "execution_count": null,
   "id": "c435043c",
   "metadata": {},
   "outputs": [],
   "source": [
    "df1"
   ]
  },
  {
   "cell_type": "code",
   "execution_count": null,
   "id": "709839eb",
   "metadata": {},
   "outputs": [],
   "source": [
    "df2"
   ]
  },
  {
   "cell_type": "code",
   "execution_count": null,
   "id": "62fd8a2c",
   "metadata": {},
   "outputs": [],
   "source": [
    "df1['matches'] = 0\n",
    "for index1, row1 in df1.iterrows():\n",
    "    x = row1.date\n",
    "    for index2, row2 in df2.iterrows():\n",
    "        if (x >= row2.start) & (x <= row2.end):\n",
    "            df1.loc[index1, 'matches'] += 1 \n",
    "            print(df1)"
   ]
  },
  {
   "cell_type": "code",
   "execution_count": null,
   "id": "1d49d80b",
   "metadata": {},
   "outputs": [],
   "source": [
    "df1"
   ]
  },
  {
   "cell_type": "markdown",
   "id": "52a5a8b6",
   "metadata": {},
   "source": [
    "#### we can then groupby to aggregate the data to see how many per a certain time period"
   ]
  },
  {
   "cell_type": "code",
   "execution_count": null,
   "id": "594bbc25",
   "metadata": {},
   "outputs": [],
   "source": [
    "df1['date'] = pd.to_datetime(df1['date'])"
   ]
  },
  {
   "cell_type": "code",
   "execution_count": null,
   "id": "6a3d15f1",
   "metadata": {},
   "outputs": [],
   "source": [
    "df1_filter = df1.groupby(pd.Grouper(key='date', axis=0, freq='D'))['matches'].sum()\n",
    "df1_filter"
   ]
  },
  {
   "cell_type": "code",
   "execution_count": null,
   "id": "24d4de26",
   "metadata": {},
   "outputs": [],
   "source": []
  }
 ],
 "metadata": {
  "kernelspec": {
   "display_name": "Python 3 (ipykernel)",
   "language": "python",
   "name": "python3"
  },
  "language_info": {
   "codemirror_mode": {
    "name": "ipython",
    "version": 3
   },
   "file_extension": ".py",
   "mimetype": "text/x-python",
   "name": "python",
   "nbconvert_exporter": "python",
   "pygments_lexer": "ipython3",
   "version": "3.8.5"
  }
 },
 "nbformat": 4,
 "nbformat_minor": 5
}
